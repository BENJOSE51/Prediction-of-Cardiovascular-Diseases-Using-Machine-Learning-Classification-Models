{
 "cells": [
  {
   "cell_type": "markdown",
   "metadata": {},
   "source": [
    "# Prediction of Cardiovascular Diseases Using Machine Learning Classification Models"
   ]
  },
  {
   "cell_type": "markdown",
   "metadata": {},
   "source": [
    "## Importing necessary packages"
   ]
  },
  {
   "cell_type": "code",
   "execution_count": 1,
   "metadata": {},
   "outputs": [],
   "source": [
    "import numpy as np\n",
    "import pandas as pd\n",
    "import seaborn as sns\n",
    "import matplotlib.pyplot as plt\n",
    "import plotly.graph_objects as go # Generate Graphs\n",
    "from plotly.subplots import make_subplots #To Create Subplots"
   ]
  },
  {
   "cell_type": "markdown",
   "metadata": {},
   "source": [
    "****Preparing feature and target data****"
   ]
  },
  {
   "cell_type": "code",
   "execution_count": 243,
   "metadata": {},
   "outputs": [],
   "source": [
    "X=cardio.iloc[:,0:11]"
   ]
  },
  {
   "cell_type": "code",
   "execution_count": 244,
   "metadata": {},
   "outputs": [
    {
     "data": {
      "text/html": [
       "<div>\n",
       "<style scoped>\n",
       "    .dataframe tbody tr th:only-of-type {\n",
       "        vertical-align: middle;\n",
       "    }\n",
       "\n",
       "    .dataframe tbody tr th {\n",
       "        vertical-align: top;\n",
       "    }\n",
       "\n",
       "    .dataframe thead th {\n",
       "        text-align: right;\n",
       "    }\n",
       "</style>\n",
       "<table border=\"1\" class=\"dataframe\">\n",
       "  <thead>\n",
       "    <tr style=\"text-align: right;\">\n",
       "      <th></th>\n",
       "      <th>age</th>\n",
       "      <th>gender</th>\n",
       "      <th>height</th>\n",
       "      <th>weight</th>\n",
       "      <th>ap_hi</th>\n",
       "      <th>ap_lo</th>\n",
       "      <th>cholesterol</th>\n",
       "      <th>gluc</th>\n",
       "      <th>smoke</th>\n",
       "      <th>alco</th>\n",
       "      <th>active</th>\n",
       "    </tr>\n",
       "    <tr>\n",
       "      <th>id</th>\n",
       "      <th></th>\n",
       "      <th></th>\n",
       "      <th></th>\n",
       "      <th></th>\n",
       "      <th></th>\n",
       "      <th></th>\n",
       "      <th></th>\n",
       "      <th></th>\n",
       "      <th></th>\n",
       "      <th></th>\n",
       "      <th></th>\n",
       "    </tr>\n",
       "  </thead>\n",
       "  <tbody>\n",
       "    <tr>\n",
       "      <th>0</th>\n",
       "      <td>50</td>\n",
       "      <td>2</td>\n",
       "      <td>168</td>\n",
       "      <td>62</td>\n",
       "      <td>110</td>\n",
       "      <td>80</td>\n",
       "      <td>1</td>\n",
       "      <td>1</td>\n",
       "      <td>0</td>\n",
       "      <td>0</td>\n",
       "      <td>1</td>\n",
       "    </tr>\n",
       "    <tr>\n",
       "      <th>1</th>\n",
       "      <td>55</td>\n",
       "      <td>1</td>\n",
       "      <td>156</td>\n",
       "      <td>85</td>\n",
       "      <td>140</td>\n",
       "      <td>90</td>\n",
       "      <td>3</td>\n",
       "      <td>1</td>\n",
       "      <td>0</td>\n",
       "      <td>0</td>\n",
       "      <td>1</td>\n",
       "    </tr>\n",
       "    <tr>\n",
       "      <th>2</th>\n",
       "      <td>51</td>\n",
       "      <td>1</td>\n",
       "      <td>165</td>\n",
       "      <td>64</td>\n",
       "      <td>130</td>\n",
       "      <td>70</td>\n",
       "      <td>3</td>\n",
       "      <td>1</td>\n",
       "      <td>0</td>\n",
       "      <td>0</td>\n",
       "      <td>0</td>\n",
       "    </tr>\n",
       "    <tr>\n",
       "      <th>3</th>\n",
       "      <td>48</td>\n",
       "      <td>2</td>\n",
       "      <td>169</td>\n",
       "      <td>82</td>\n",
       "      <td>150</td>\n",
       "      <td>100</td>\n",
       "      <td>1</td>\n",
       "      <td>1</td>\n",
       "      <td>0</td>\n",
       "      <td>0</td>\n",
       "      <td>1</td>\n",
       "    </tr>\n",
       "    <tr>\n",
       "      <th>4</th>\n",
       "      <td>47</td>\n",
       "      <td>1</td>\n",
       "      <td>156</td>\n",
       "      <td>56</td>\n",
       "      <td>100</td>\n",
       "      <td>60</td>\n",
       "      <td>1</td>\n",
       "      <td>1</td>\n",
       "      <td>0</td>\n",
       "      <td>0</td>\n",
       "      <td>0</td>\n",
       "    </tr>\n",
       "    <tr>\n",
       "      <th>...</th>\n",
       "      <td>...</td>\n",
       "      <td>...</td>\n",
       "      <td>...</td>\n",
       "      <td>...</td>\n",
       "      <td>...</td>\n",
       "      <td>...</td>\n",
       "      <td>...</td>\n",
       "      <td>...</td>\n",
       "      <td>...</td>\n",
       "      <td>...</td>\n",
       "      <td>...</td>\n",
       "    </tr>\n",
       "    <tr>\n",
       "      <th>99993</th>\n",
       "      <td>52</td>\n",
       "      <td>2</td>\n",
       "      <td>168</td>\n",
       "      <td>76</td>\n",
       "      <td>120</td>\n",
       "      <td>80</td>\n",
       "      <td>1</td>\n",
       "      <td>1</td>\n",
       "      <td>1</td>\n",
       "      <td>0</td>\n",
       "      <td>1</td>\n",
       "    </tr>\n",
       "    <tr>\n",
       "      <th>99995</th>\n",
       "      <td>61</td>\n",
       "      <td>1</td>\n",
       "      <td>158</td>\n",
       "      <td>126</td>\n",
       "      <td>140</td>\n",
       "      <td>90</td>\n",
       "      <td>2</td>\n",
       "      <td>2</td>\n",
       "      <td>0</td>\n",
       "      <td>0</td>\n",
       "      <td>1</td>\n",
       "    </tr>\n",
       "    <tr>\n",
       "      <th>99996</th>\n",
       "      <td>52</td>\n",
       "      <td>2</td>\n",
       "      <td>183</td>\n",
       "      <td>105</td>\n",
       "      <td>180</td>\n",
       "      <td>90</td>\n",
       "      <td>3</td>\n",
       "      <td>1</td>\n",
       "      <td>0</td>\n",
       "      <td>1</td>\n",
       "      <td>0</td>\n",
       "    </tr>\n",
       "    <tr>\n",
       "      <th>99998</th>\n",
       "      <td>61</td>\n",
       "      <td>1</td>\n",
       "      <td>163</td>\n",
       "      <td>72</td>\n",
       "      <td>135</td>\n",
       "      <td>80</td>\n",
       "      <td>1</td>\n",
       "      <td>2</td>\n",
       "      <td>0</td>\n",
       "      <td>0</td>\n",
       "      <td>0</td>\n",
       "    </tr>\n",
       "    <tr>\n",
       "      <th>99999</th>\n",
       "      <td>56</td>\n",
       "      <td>1</td>\n",
       "      <td>170</td>\n",
       "      <td>72</td>\n",
       "      <td>120</td>\n",
       "      <td>80</td>\n",
       "      <td>2</td>\n",
       "      <td>1</td>\n",
       "      <td>0</td>\n",
       "      <td>0</td>\n",
       "      <td>1</td>\n",
       "    </tr>\n",
       "  </tbody>\n",
       "</table>\n",
       "<p>68983 rows × 11 columns</p>\n",
       "</div>"
      ],
      "text/plain": [
       "       age  gender  height  weight  ap_hi  ap_lo  cholesterol  gluc  smoke  \\\n",
       "id                                                                           \n",
       "0       50       2     168      62    110     80            1     1      0   \n",
       "1       55       1     156      85    140     90            3     1      0   \n",
       "2       51       1     165      64    130     70            3     1      0   \n",
       "3       48       2     169      82    150    100            1     1      0   \n",
       "4       47       1     156      56    100     60            1     1      0   \n",
       "...    ...     ...     ...     ...    ...    ...          ...   ...    ...   \n",
       "99993   52       2     168      76    120     80            1     1      1   \n",
       "99995   61       1     158     126    140     90            2     2      0   \n",
       "99996   52       2     183     105    180     90            3     1      0   \n",
       "99998   61       1     163      72    135     80            1     2      0   \n",
       "99999   56       1     170      72    120     80            2     1      0   \n",
       "\n",
       "       alco  active  \n",
       "id                   \n",
       "0         0       1  \n",
       "1         0       1  \n",
       "2         0       0  \n",
       "3         0       1  \n",
       "4         0       0  \n",
       "...     ...     ...  \n",
       "99993     0       1  \n",
       "99995     0       1  \n",
       "99996     1       0  \n",
       "99998     0       0  \n",
       "99999     0       1  \n",
       "\n",
       "[68983 rows x 11 columns]"
      ]
     },
     "execution_count": 244,
     "metadata": {},
     "output_type": "execute_result"
    }
   ],
   "source": [
    "X"
   ]
  },
  {
   "cell_type": "code",
   "execution_count": 245,
   "metadata": {},
   "outputs": [],
   "source": [
    "y=cardio.iloc[:,11]"
   ]
  },
  {
   "cell_type": "code",
   "execution_count": 246,
   "metadata": {},
   "outputs": [
    {
     "data": {
      "text/plain": [
       "id\n",
       "0        0\n",
       "1        1\n",
       "2        1\n",
       "3        1\n",
       "4        0\n",
       "        ..\n",
       "99993    0\n",
       "99995    1\n",
       "99996    1\n",
       "99998    1\n",
       "99999    0\n",
       "Name: cardio, Length: 68983, dtype: int64"
      ]
     },
     "execution_count": 246,
     "metadata": {},
     "output_type": "execute_result"
    }
   ],
   "source": [
    "y"
   ]
  },
  {
   "cell_type": "markdown",
   "metadata": {},
   "source": [
    "****Splitting the data into training and testing set****"
   ]
  },
  {
   "cell_type": "code",
   "execution_count": 247,
   "metadata": {},
   "outputs": [],
   "source": [
    "from sklearn.model_selection import train_test_split\n",
    "\n",
    "X_train, X_test, y_train, y_test = train_test_split(X, y, random_state=0)"
   ]
  },
  {
   "cell_type": "markdown",
   "metadata": {},
   "source": [
    "**XGBoost Classifier**"
   ]
  },
  {
   "cell_type": "code",
   "execution_count": 248,
   "metadata": {},
   "outputs": [
    {
     "data": {
      "text/plain": [
       "XGBClassifier(base_score=0.5, booster='gbtree', colsample_bylevel=1,\n",
       "              colsample_bynode=1, colsample_bytree=1, gamma=0, gpu_id=-1,\n",
       "              importance_type='gain', interaction_constraints='',\n",
       "              learning_rate=0.300000012, max_delta_step=0, max_depth=6,\n",
       "              min_child_weight=1, missing=nan, monotone_constraints='()',\n",
       "              n_estimators=100, n_jobs=0, num_parallel_tree=1, random_state=0,\n",
       "              reg_alpha=0, reg_lambda=1, scale_pos_weight=1, subsample=1,\n",
       "              tree_method='exact', validate_parameters=1, verbosity=None)"
      ]
     },
     "execution_count": 248,
     "metadata": {},
     "output_type": "execute_result"
    }
   ],
   "source": [
    "from xgboost import XGBClassifier\n",
    "#Here we import the 'XGBClassifier' function from xgboost\n",
    "model = XGBClassifier()\n",
    "model.fit(X_train, y_train)\n",
    "#here we fit the training data using XGBClassifier()"
   ]
  },
  {
   "cell_type": "code",
   "execution_count": 249,
   "metadata": {},
   "outputs": [
    {
     "name": "stdout",
     "output_type": "stream",
     "text": [
      "The actual testing data\n",
      "  id\n",
      "62903    1\n",
      "30563    0\n",
      "73634    1\n",
      "681      0\n",
      "86200    1\n",
      "        ..\n",
      "63702    1\n",
      "68878    0\n",
      "17144    1\n",
      "84589    0\n",
      "62017    1\n",
      "Name: cardio, Length: 17246, dtype: int64\n",
      "\n",
      "\n",
      "Confusion Matrix:\n",
      " [[6710 2055]\n",
      " [2619 5862]]\n",
      "\n",
      "\n",
      "Accuracy is  72.9 %\n",
      "Precision is  0.74\n",
      "Recall is  0.69\n",
      "\n",
      "Classification Report\n",
      "              precision    recall  f1-score   support\n",
      "\n",
      "           0       0.72      0.77      0.74      8765\n",
      "           1       0.74      0.69      0.71      8481\n",
      "\n",
      "    accuracy                           0.73     17246\n",
      "   macro avg       0.73      0.73      0.73     17246\n",
      "weighted avg       0.73      0.73      0.73     17246\n",
      "\n",
      "XGBoost Area Under the Curve = 0.793960494089234\n"
     ]
    },
    {
     "data": {
      "image/png": "[encoded data removed]",
      "text/plain": [
       "<Figure size 504x504 with 1 Axes>"
      ]
     },
     "metadata": {
      "needs_background": "light"
     },
     "output_type": "display_data"
    }
   ],
   "source": [
    "# Predicting the Test set results \n",
    "y_pred = model.predict(X_test)\n",
    "print(\"The actual testing data\\n \",y_test)\n",
    "\n",
    "# Make the Confusion Matrix\n",
    "from sklearn.metrics import confusion_matrix\n",
    "cm = confusion_matrix(y_test, y_pred)\n",
    "print(\"\\n\")\n",
    "print (\"Confusion Matrix:\\n\",cm)\n",
    "\n",
    "#Evaluate Results\n",
    "from sklearn.metrics import accuracy_score\n",
    "from sklearn.metrics import precision_score\n",
    "from sklearn.metrics import recall_score\n",
    "score1 = accuracy_score(y_test,y_pred)\n",
    "score2 = precision_score(y_test,y_pred)\n",
    "score3= recall_score(y_test,y_pred)\n",
    "print(\"\\n\")\n",
    "print(\"Accuracy is \",round(score1*100,2),\"%\")\n",
    "print(\"Precision is \",round(score2,2))\n",
    "print(\"Recall is \",round(score3,2))\n",
    "\n",
    "#Classification report\n",
    "print('\\nClassification Report')\n",
    "from sklearn.metrics import classification_report\n",
    "print(classification_report(y_test,y_pred))\n",
    "\n",
    "#Plotting the curve \n",
    "from sklearn.metrics import roc_auc_score\n",
    "dt_auc= roc_auc_score(y_test,model.predict_proba(X_test)[:,1])\n",
    "print(\"XGBoost Area Under the Curve = \" +str(dt_auc))\n",
    "import matplotlib.pyplot as plt\n",
    "from sklearn.metrics import roc_curve\n",
    "import numpy as np\n",
    "fpr, tpr, _ = roc_curve(y_test,model.predict_proba(X_test)[:,1],pos_label=1)\n",
    "plt.plot(fpr,tpr,label=\"XGB Curve\")\n",
    "plt.xlabel(\"FPR\") #plt.xlabel() is used to give the label for the x axis.\n",
    "plt.ylabel(\"TPR\") #plt.ylabel() is used to give the label for the y axis.\n",
    "plt.title('ROC curve for XGB Classifier') #plt.title() is used to add title for the plot.\n",
    "plt.legend(loc=4) #Create a legend for the plot element\n",
    "plt.show()  #plt.show() will display the plot.\n",
    "\n"
   ]
  },
  {
   "cell_type": "markdown",
   "metadata": {},
   "source": [
    "**Decision Tree Classifier**"
   ]
  },
  {
   "cell_type": "code",
   "execution_count": 250,
   "metadata": {},
   "outputs": [
    {
     "data": {
      "text/plain": [
       "DecisionTreeClassifier()"
      ]
     },
     "execution_count": 250,
     "metadata": {},
     "output_type": "execute_result"
    }
   ],
   "source": [
    "from sklearn.tree import DecisionTreeClassifier\n",
    "#here we import the 'DecisionTreeClassifier' function from the 'tree' subpackage of sklearn.\n",
    "clf = DecisionTreeClassifier()\n",
    "clf.fit(X_train,y_train)\n",
    "#here we fit the training data using DecisionTreeClassifier().\n"
   ]
  },
  {
   "cell_type": "code",
   "execution_count": 265,
   "metadata": {},
   "outputs": [
    {
     "name": "stdout",
     "output_type": "stream",
     "text": [
      "The actual testing data\n",
      "  id\n",
      "62903    1\n",
      "30563    0\n",
      "73634    1\n",
      "681      0\n",
      "86200    1\n",
      "        ..\n",
      "63702    1\n",
      "68878    0\n",
      "17144    1\n",
      "84589    0\n",
      "62017    1\n",
      "Name: cardio, Length: 17246, dtype: int64\n",
      "\n",
      "\n",
      "Confusion Matrix:\n",
      " [[7094 1671]\n",
      " [3371 5110]]\n",
      "\n",
      "\n",
      "Accuracy is  70.76 %\n",
      "Precision is  0.75\n",
      "Recall is  0.6\n",
      "\n",
      "Classification Report\n",
      "              precision    recall  f1-score   support\n",
      "\n",
      "           0       0.68      0.81      0.74      8765\n",
      "           1       0.75      0.60      0.67      8481\n",
      "\n",
      "    accuracy                           0.71     17246\n",
      "   macro avg       0.72      0.71      0.70     17246\n",
      "weighted avg       0.72      0.71      0.70     17246\n",
      "\n",
      "Decision tree Area Under the Curve = 0.7713566037650819\n"
     ]
    },
    {
     "data": {
      "image/png": "[encoded data removed]",
      "text/plain": [
       "<Figure size 504x504 with 1 Axes>"
      ]
     },
     "metadata": {
      "needs_background": "light"
     },
     "output_type": "display_data"
    }
   ],
   "source": [
    "# Predicting the Test set results \n",
    "y_pred = clf.predict(X_test)\n",
    "print(\"The actual testing data\\n \",y_test)\n",
    "\n",
    "# Make the Confusion Matrix\n",
    "from sklearn.metrics import confusion_matrix\n",
    "cm = confusion_matrix(y_test, y_pred)\n",
    "print(\"\\n\")\n",
    "print (\"Confusion Matrix:\\n\",cm)\n",
    "\n",
    "# Evaluate the results\n",
    "from sklearn.metrics import accuracy_score\n",
    "from sklearn.metrics import precision_score\n",
    "from sklearn.metrics import recall_score\n",
    "dt = accuracy_score(y_test,y_pred)\n",
    "score2 = precision_score(y_test,y_pred)\n",
    "score3= recall_score(y_test,y_pred)\n",
    "print(\"\\n\")\n",
    "print(\"Accuracy is \",round(dt*100,2),\"%\")\n",
    "print(\"Precision is \",round(score2,2))\n",
    "print(\"Recall is \",round(score3,2))\n",
    "\n",
    "# Classification Report\n",
    "print('\\nClassification Report')\n",
    "from sklearn.metrics import classification_report\n",
    "print(classification_report(y_test,y_pred))\n",
    "\n",
    "from sklearn.metrics import roc_auc_score\n",
    "dt_auc= roc_auc_score(y_test,clf.predict_proba(X_test)[:,1])\n",
    "print(\"Decision tree Area Under the Curve = \" +str(dt_auc))\n",
    "import matplotlib.pyplot as plt\n",
    "from sklearn.metrics import roc_curve\n",
    "import numpy as np\n",
    "fpr, tpr, _ = roc_curve(y_test,clf.predict_proba(X_test)[:,1],pos_label=1)\n",
    "plt.plot(fpr,tpr,label=\"DT Curve\")\n",
    "plt.xlabel(\"FPR\") #plt.xlabel() is used to give the label for the x axis.\n",
    "plt.ylabel(\"TPR\") #plt.ylabel() is used to give the label for the y axis.\n",
    "plt.title('ROC curve for DT Classifier') #plt.title() is used to add title for the plot.\n",
    "plt.legend(loc=4) #Create a legend for the plot element\n",
    "plt.show()  #plt.show() will display the plot.\n"
   ]
  },
  {
   "cell_type": "markdown",
   "metadata": {},
   "source": [
    "**Linear Perceptron**"
   ]
  },
  {
   "cell_type": "code",
   "execution_count": 252,
   "metadata": {},
   "outputs": [
    {
     "data": {
      "text/plain": [
       "0.5699016177977076"
      ]
     },
     "execution_count": 252,
     "metadata": {},
     "output_type": "execute_result"
    }
   ],
   "source": [
    "from sklearn.linear_model import Perceptron\n",
    "lp = Perceptron(tol=1e-3, random_state=0)\n",
    "lp.fit(X_train, y_train)\n",
    "Perceptron()\n",
    "lp.score(X_train, y_train)\n"
   ]
  },
  {
   "cell_type": "code",
   "execution_count": 267,
   "metadata": {},
   "outputs": [
    {
     "name": "stdout",
     "output_type": "stream",
     "text": [
      "The actual testing data\n",
      "  id\n",
      "62903    1\n",
      "30563    0\n",
      "73634    1\n",
      "681      0\n",
      "86200    1\n",
      "        ..\n",
      "63702    1\n",
      "68878    0\n",
      "17144    1\n",
      "84589    0\n",
      "62017    1\n",
      "Name: cardio, Length: 17246, dtype: int64\n",
      "\n",
      "\n",
      "Confusion Matrix:\n",
      " [[8495  270]\n",
      " [7140 1341]]\n",
      "\n",
      "\n",
      "Accuracy is  57.03 %\n",
      "Precision is  0.83\n",
      "Recall is  0.16\n",
      "\n",
      " Classification Report\n",
      "              precision    recall  f1-score   support\n",
      "\n",
      "           0       0.54      0.97      0.70      8765\n",
      "           1       0.83      0.16      0.27      8481\n",
      "\n",
      "    accuracy                           0.57     17246\n",
      "   macro avg       0.69      0.56      0.48     17246\n",
      "weighted avg       0.69      0.57      0.48     17246\n",
      "\n"
     ]
    }
   ],
   "source": [
    "# Predicting the Test set results \n",
    "y_pred = lp.predict(X_test)\n",
    "print(\"The actual testing data\\n \",y_test)\n",
    "\n",
    "# Make the Confusion Matrix\n",
    "from sklearn.metrics import confusion_matrix\n",
    "cm = confusion_matrix(y_test, y_pred)\n",
    "print(\"\\n\")\n",
    "print (\"Confusion Matrix:\\n\",cm)\n",
    "\n",
    "\n",
    "# Evaluate the results\n",
    "from sklearn.metrics import accuracy_score\n",
    "from sklearn.metrics import precision_score\n",
    "from sklearn.metrics import recall_score\n",
    "lps= accuracy_score(y_test,y_pred)\n",
    "score2 = precision_score(y_test,y_pred)\n",
    "score3= recall_score(y_test,y_pred)\n",
    "print(\"\\n\")\n",
    "print(\"Accuracy is \",round(lps*100,2),\"%\")\n",
    "print(\"Precision is \",round(score2,2))\n",
    "print(\"Recall is \",round(score3,2))\n",
    "\n",
    "#Classification report\n",
    "print('\\n Classification Report')\n",
    "from sklearn.metrics import classification_report\n",
    "print(classification_report(y_test,y_pred))\n",
    "\n"
   ]
  },
  {
   "cell_type": "markdown",
   "metadata": {},
   "source": [
    "**Linear SVC**"
   ]
  },
  {
   "cell_type": "code",
   "execution_count": 254,
   "metadata": {},
   "outputs": [
    {
     "name": "stderr",
     "output_type": "stream",
     "text": [
      "C:\\Users\\rpriy\\anaconda3\\lib\\site-packages\\sklearn\\svm\\_base.py:976: ConvergenceWarning: Liblinear failed to converge, increase the number of iterations.\n",
      "  warnings.warn(\"Liblinear failed to converge, increase \"\n"
     ]
    }
   ],
   "source": [
    "from sklearn.svm import LinearSVC\n",
    "ls = LinearSVC(loss=\"hinge\", random_state=42).fit(X_train, y_train)\n"
   ]
  },
  {
   "cell_type": "code",
   "execution_count": 255,
   "metadata": {},
   "outputs": [
    {
     "name": "stderr",
     "output_type": "stream",
     "text": [
      "C:\\Users\\rpriy\\anaconda3\\lib\\site-packages\\sklearn\\svm\\_base.py:976: ConvergenceWarning: Liblinear failed to converge, increase the number of iterations.\n",
      "  warnings.warn(\"Liblinear failed to converge, increase \"\n"
     ]
    },
    {
     "data": {
      "text/plain": [
       "0.5108143108413707"
      ]
     },
     "execution_count": 255,
     "metadata": {},
     "output_type": "execute_result"
    }
   ],
   "source": [
    "ls.fit(X_train, y_train)\n",
    "ls.score(X_train, y_train)"
   ]
  },
  {
   "cell_type": "code",
   "execution_count": 269,
   "metadata": {},
   "outputs": [
    {
     "name": "stdout",
     "output_type": "stream",
     "text": [
      "The actual testing data\n",
      "  id\n",
      "62903    1\n",
      "30563    0\n",
      "73634    1\n",
      "681      0\n",
      "86200    1\n",
      "        ..\n",
      "63702    1\n",
      "68878    0\n",
      "17144    1\n",
      "84589    0\n",
      "62017    1\n",
      "Name: cardio, Length: 17246, dtype: int64\n",
      "\n",
      "\n",
      "Confusion Matrix:\n",
      " [[8733   32]\n",
      " [8327  154]]\n",
      "\n",
      "\n",
      "Accuracy is  51.53 %\n",
      "Precision is  0.83\n",
      "Recall is  0.02\n",
      "\n",
      " Classification Report\n",
      "              precision    recall  f1-score   support\n",
      "\n",
      "           0       0.51      1.00      0.68      8765\n",
      "           1       0.83      0.02      0.04      8481\n",
      "\n",
      "    accuracy                           0.52     17246\n",
      "   macro avg       0.67      0.51      0.36     17246\n",
      "weighted avg       0.67      0.52      0.36     17246\n",
      "\n"
     ]
    }
   ],
   "source": [
    "# Predicting the Test set results \n",
    "y_pred = ls.predict(X_test)\n",
    "print(\"The actual testing data\\n \",y_test)\n",
    "\n",
    "# Make the Confusion Matrix\n",
    "from sklearn.metrics import confusion_matrix\n",
    "cm = confusion_matrix(y_test, y_pred)\n",
    "print(\"\\n\")\n",
    "print (\"Confusion Matrix:\\n\",cm)\n",
    "\n",
    "# Evaluate the results\n",
    "# Evaluate the results\n",
    "from sklearn.metrics import accuracy_score\n",
    "from sklearn.metrics import precision_score\n",
    "from sklearn.metrics import recall_score\n",
    "lss = accuracy_score(y_test,y_pred)\n",
    "score2 = precision_score(y_test,y_pred)\n",
    "score3= recall_score(y_test,y_pred)\n",
    "print(\"\\n\")\n",
    "print(\"Accuracy is \",round(lss*100,2),\"%\")\n",
    "print(\"Precision is \",round(score2,2))\n",
    "print(\"Recall is \",round(score3,2))\n",
    "\n",
    "\n",
    "#Classification Report\n",
    "print('\\n Classification Report')\n",
    "from sklearn.metrics import classification_report\n",
    "print(classification_report(y_test,y_pred))\n",
    "\n"
   ]
  },
  {
   "cell_type": "markdown",
   "metadata": {},
   "source": [
    "# KNN Model"
   ]
  },
  {
   "cell_type": "code",
   "execution_count": 257,
   "metadata": {},
   "outputs": [
    {
     "name": "stdout",
     "output_type": "stream",
     "text": [
      "The actual testing data\n",
      "  id\n",
      "62903    1\n",
      "30563    0\n",
      "73634    1\n",
      "681      0\n",
      "86200    1\n",
      "        ..\n",
      "63702    1\n",
      "68878    0\n",
      "17144    1\n",
      "84589    0\n",
      "62017    1\n",
      "Name: cardio, Length: 17246, dtype: int64\n",
      "\n",
      "\n",
      "Confusion Matrix:\n",
      " [[6211 2554]\n",
      " [2838 5643]]\n",
      "\n",
      "\n",
      "Accuracy is  68.73 %\n",
      "Precision is  0.69\n",
      "Recall is  0.67\n",
      "\n",
      " Classification Report\n",
      "              precision    recall  f1-score   support\n",
      "\n",
      "           0       0.69      0.71      0.70      8765\n",
      "           1       0.69      0.67      0.68      8481\n",
      "\n",
      "    accuracy                           0.69     17246\n",
      "   macro avg       0.69      0.69      0.69     17246\n",
      "weighted avg       0.69      0.69      0.69     17246\n",
      "\n",
      "KNN Area Under the Curve = 0.7325205639020089\n"
     ]
    },
    {
     "data": {
      "image/png": "[encoded data removed]",
      "text/plain": [
       "<Figure size 504x504 with 1 Axes>"
      ]
     },
     "metadata": {
      "needs_background": "light"
     },
     "output_type": "display_data"
    }
   ],
   "source": [
    "from sklearn.neighbors import KNeighborsClassifier\n",
    "knn = KNeighborsClassifier().fit(X_train, y_train)\n",
    "y_pred = knn.predict(X_test)\n",
    "print(\"The actual testing data\\n \",y_test)\n",
    "\n",
    "# Make the Confusion Matrix\n",
    "from sklearn.metrics import confusion_matrix\n",
    "cm = confusion_matrix(y_test, y_pred)\n",
    "print(\"\\n\")\n",
    "print (\"Confusion Matrix:\\n\",cm)\n",
    "\n",
    "# Evaluate the results\n",
    "from sklearn.metrics import accuracy_score\n",
    "from sklearn.metrics import precision_score\n",
    "from sklearn.metrics import recall_score\n",
    "knns = accuracy_score(y_test,y_pred)\n",
    "score2 = precision_score(y_test,y_pred)\n",
    "score3= recall_score(y_test,y_pred)\n",
    "print(\"\\n\")\n",
    "print(\"Accuracy is \",round(knns*100,2),\"%\")\n",
    "print(\"Precision is \",round(score2,2))\n",
    "print(\"Recall is \",round(score3,2))\n",
    "\n",
    "#Classification Report\n",
    "print('\\n Classification Report')\n",
    "from sklearn.metrics import classification_report\n",
    "print(classification_report(y_test,y_pred))\n",
    "\n",
    "#Plotting the curve\n",
    "from sklearn.metrics import roc_auc_score\n",
    "dt_auc= roc_auc_score(y_test,knn.predict_proba(X_test)[:,1])\n",
    "print(\"KNN Area Under the Curve = \" +str(dt_auc))\n",
    "import matplotlib.pyplot as plt\n",
    "from sklearn.metrics import roc_curve\n",
    "import numpy as np\n",
    "fpr, tpr, _ = roc_curve(y_test,knn.predict_proba(X_test)[:,1],pos_label=1)\n",
    "plt.plot(fpr,tpr,label=\"kNN Curve\")\n",
    "plt.xlabel(\"FPR\") #plt.xlabel() is used to give the label for the x axis.\n",
    "plt.ylabel(\"TPR\") #plt.ylabel() is used to give the label for the y axis.\n",
    "plt.title('ROC curve for KNN Classifier') #plt.title() is used to add title for the plot.\n",
    "plt.legend(loc=4) #Create a legend for the plot element\n",
    "plt.show()  #plt.show() will display the plot."
   ]
  },
  {
   "cell_type": "markdown",
   "metadata": {},
   "source": [
    "# Random Forest"
   ]
  },
  {
   "cell_type": "code",
   "execution_count": 258,
   "metadata": {},
   "outputs": [
    {
     "name": "stdout",
     "output_type": "stream",
     "text": [
      "The actual testing data\n",
      "  id\n",
      "62903    1\n",
      "30563    0\n",
      "73634    1\n",
      "681      0\n",
      "86200    1\n",
      "        ..\n",
      "63702    1\n",
      "68878    0\n",
      "17144    1\n",
      "84589    0\n",
      "62017    1\n",
      "Name: cardio, Length: 17246, dtype: int64\n",
      "\n",
      "\n",
      "Confusion Matrix:\n",
      " [[5654 3111]\n",
      " [3215 5266]]\n",
      "\n",
      "\n",
      "Accuracy is  63.32 %\n",
      "Precision is  0.63\n",
      "Recall is  0.62\n",
      "\n",
      " Classification Report\n",
      "              precision    recall  f1-score   support\n",
      "\n",
      "           0       0.64      0.65      0.64      8765\n",
      "           1       0.63      0.62      0.62      8481\n",
      "\n",
      "    accuracy                           0.63     17246\n",
      "   macro avg       0.63      0.63      0.63     17246\n",
      "weighted avg       0.63      0.63      0.63     17246\n",
      "\n",
      "Random Forest Area Under the Curve = 0.633868148479676\n"
     ]
    },
    {
     "data": {
      "image/png": "[encoded data removed]",
      "text/plain": [
       "<Figure size 504x504 with 1 Axes>"
      ]
     },
     "metadata": {
      "needs_background": "light"
     },
     "output_type": "display_data"
    }
   ],
   "source": [
    "# Splitting the dataset into the Training set and Test set\n",
    "from sklearn.model_selection import train_test_split\n",
    "X_train, X_test, y_train, y_test = train_test_split(X, y, random_state=0)\n",
    "\n",
    "# Fitting classifier to the Training set\n",
    "from sklearn.ensemble import RandomForestClassifier\n",
    "rfc = DecisionTreeClassifier().fit(X_train, y_train)\n",
    "\n",
    "\n",
    "# Predicting the Test set results \n",
    "y_pred = rfc.predict(X_test)\n",
    "print(\"The actual testing data\\n \",y_test)\n",
    "\n",
    "# Make the Confusion Matrix\n",
    "from sklearn.metrics import confusion_matrix\n",
    "cm = confusion_matrix(y_test, y_pred)\n",
    "print(\"\\n\")\n",
    "print (\"Confusion Matrix:\\n\",cm)\n",
    "\n",
    "# Evaluate the results\n",
    "from sklearn.metrics import accuracy_score\n",
    "from sklearn.metrics import precision_score\n",
    "from sklearn.metrics import recall_score\n",
    "rf = accuracy_score(y_test,y_pred)\n",
    "score2 = precision_score(y_test,y_pred)\n",
    "score3= recall_score(y_test,y_pred)\n",
    "print(\"\\n\")\n",
    "print(\"Accuracy is \",round(rf*100,2),\"%\")\n",
    "print(\"Precision is \",round(score2,2))\n",
    "print(\"Recall is \",round(score3,2))\n",
    "\n",
    "#Classification Report\n",
    "print('\\n Classification Report')\n",
    "from sklearn.metrics import classification_report\n",
    "print(classification_report(y_test,y_pred))\n",
    "\n",
    "#Plotting the curve\n",
    "from sklearn.metrics import roc_auc_score\n",
    "dt_auc= roc_auc_score(y_test,rfc.predict_proba(X_test)[:,1])\n",
    "print(\"Random Forest Area Under the Curve = \" +str(dt_auc))\n",
    "import matplotlib.pyplot as plt\n",
    "from sklearn.metrics import roc_curve\n",
    "import numpy as np\n",
    "fpr, tpr, _ = roc_curve(y_test,rfc.predict_proba(X_test)[:,1],pos_label=1)\n",
    "plt.plot(fpr,tpr,label=\"RF Curve\")\n",
    "plt.xlabel(\"FPR\") #plt.xlabel() is used to give the label for the x axis.\n",
    "plt.ylabel(\"TPR\") #plt.ylabel() is used to give the label for the y axis.\n",
    "plt.title('ROC curve for RF Classifier') #plt.title() is used to add title for the plot.\n",
    "plt.legend(loc=4) #Create a legend for the plot element\n",
    "plt.show()  #plt.show() will display the plot.#\n"
   ]
  },
  {
   "cell_type": "markdown",
   "metadata": {},
   "source": [
    "# SVM RBF Model"
   ]
  },
  {
   "cell_type": "code",
   "execution_count": 259,
   "metadata": {},
   "outputs": [
    {
     "name": "stdout",
     "output_type": "stream",
     "text": [
      "The actual testing data\n",
      "  id\n",
      "62903    1\n",
      "30563    0\n",
      "73634    1\n",
      "681      0\n",
      "86200    1\n",
      "        ..\n",
      "63702    1\n",
      "68878    0\n",
      "17144    1\n",
      "84589    0\n",
      "62017    1\n",
      "Name: cardio, Length: 17246, dtype: int64\n",
      "\n",
      "\n",
      "Confusion Matrix:\n",
      " [[7156 1609]\n",
      " [3168 5313]]\n",
      "\n",
      "\n",
      "Accuracy is  72.3 %\n",
      "Precision is  0.77\n",
      "Recall is  0.63\n",
      "\n",
      " Classification Report\n",
      "              precision    recall  f1-score   support\n",
      "\n",
      "           0       0.69      0.82      0.75      8765\n",
      "           1       0.77      0.63      0.69      8481\n",
      "\n",
      "    accuracy                           0.72     17246\n",
      "   macro avg       0.73      0.72      0.72     17246\n",
      "weighted avg       0.73      0.72      0.72     17246\n",
      "\n"
     ]
    }
   ],
   "source": [
    "from sklearn.svm import SVC\n",
    "svc=SVC(kernel='rbf').fit(X_train,y_train)\n",
    "y_pred = svc.predict(X_test)\n",
    "print(\"The actual testing data\\n \",y_test)\n",
    "\n",
    "# Make the Confusion Matrix\n",
    "from sklearn.metrics import confusion_matrix\n",
    "cm = confusion_matrix(y_test, y_pred)\n",
    "print(\"\\n\")\n",
    "print (\"Confusion Matrix:\\n\",cm)\n",
    "\n",
    "# Evaluate the results\n",
    "from sklearn.metrics import accuracy_score\n",
    "from sklearn.metrics import precision_score\n",
    "from sklearn.metrics import recall_score\n",
    "svrb= accuracy_score(y_test,y_pred)\n",
    "score2 = precision_score(y_test,y_pred)\n",
    "score3= recall_score(y_test,y_pred)\n",
    "print(\"\\n\")\n",
    "print(\"Accuracy is \",round(svrb*100,2),\"%\")\n",
    "print(\"Precision is \",round(score2,2))\n",
    "print(\"Recall is \",round(score3,2))\n",
    "\n",
    "#Classification Report\n",
    "print('\\n Classification Report')\n",
    "from sklearn.metrics import classification_report\n",
    "print(classification_report(y_test,y_pred))\n",
    "\n",
    "\n"
   ]
  },
  {
   "cell_type": "markdown",
   "metadata": {},
   "source": [
    "## NaiveBayes Classifier "
   ]
  },
  {
   "cell_type": "code",
   "execution_count": 260,
   "metadata": {},
   "outputs": [
    {
     "name": "stdout",
     "output_type": "stream",
     "text": [
      "The actual testing data:\n",
      "  id\n",
      "62903    1\n",
      "30563    0\n",
      "73634    1\n",
      "681      0\n",
      "86200    1\n",
      "        ..\n",
      "63702    1\n",
      "68878    0\n",
      "17144    1\n",
      "84589    0\n",
      "62017    1\n",
      "Name: cardio, Length: 17246, dtype: int64\n",
      "\n",
      "\n",
      "Confusion Matrix:\n",
      " [[7094 1671]\n",
      " [3371 5110]]\n",
      "\n",
      "\n",
      "Accuracy is  70.76 %\n",
      "Precision is  0.75\n",
      "Recall is  0.6\n",
      "\n",
      " Classification Report\n",
      "              precision    recall  f1-score   support\n",
      "\n",
      "           0       0.68      0.81      0.74      8765\n",
      "           1       0.75      0.60      0.67      8481\n",
      "\n",
      "    accuracy                           0.71     17246\n",
      "   macro avg       0.72      0.71      0.70     17246\n",
      "weighted avg       0.72      0.71      0.70     17246\n",
      "\n",
      "GausianNB Area Under the Curve = 0.7713566037650819\n"
     ]
    },
    {
     "data": {
      "image/png": "[encoded data removed]",
      "text/plain": [
       "<Figure size 504x504 with 1 Axes>"
      ]
     },
     "metadata": {
      "needs_background": "light"
     },
     "output_type": "display_data"
    }
   ],
   "source": [
    "# Fitting classifier to the Training set\n",
    "from sklearn.naive_bayes import GaussianNB\n",
    "clf = GaussianNB() \n",
    "clf.fit(X_train, y_train)\n",
    "\n",
    "\n",
    "# Predicting the Test set results \n",
    "y_pred = clf.predict(X_test)\n",
    "print(\"The actual testing data:\\n \",y_test)\n",
    "\n",
    "\n",
    "# Make the Confusion Matrix\n",
    "from sklearn.metrics import confusion_matrix\n",
    "cm = confusion_matrix(y_test, y_pred)\n",
    "print(\"\\n\")\n",
    "print (\"Confusion Matrix:\\n\",cm)\n",
    "\n",
    "# Evaluate the results\n",
    "from sklearn.metrics import accuracy_score\n",
    "from sklearn.metrics import precision_score\n",
    "from sklearn.metrics import recall_score\n",
    "gnb = accuracy_score(y_test,y_pred)\n",
    "score2 = precision_score(y_test,y_pred)\n",
    "score3= recall_score(y_test,y_pred)\n",
    "print(\"\\n\")\n",
    "print(\"Accuracy is \",round(gnb*100,2),\"%\")\n",
    "print(\"Precision is \",round(score2,2))\n",
    "print(\"Recall is \",round(score3,2))\n",
    "\n",
    "#Classification Report\n",
    "print('\\n Classification Report')\n",
    "from sklearn.metrics import classification_report\n",
    "print(classification_report(y_test,y_pred))\n",
    "\n",
    "#Plotting the ROC curve\n",
    "from sklearn.metrics import roc_auc_score\n",
    "dt_auc= roc_auc_score(y_test,clf.predict_proba(X_test)[:,1])\n",
    "print(\"GausianNB Area Under the Curve = \" +str(dt_auc))\n",
    "import matplotlib.pyplot as plt\n",
    "from sklearn.metrics import roc_curve\n",
    "import numpy as np\n",
    "fpr, tpr, _ = roc_curve(y_test,clf.predict_proba(X_test)[:,1],pos_label=1)\n",
    "plt.plot(fpr,tpr,label=\"GausianNB Curve\")\n",
    "plt.xlabel(\"FPR\") #plt.xlabel() is used to give the label for the x axis.\n",
    "plt.ylabel(\"TPR\") #plt.ylabel() is used to give the label for the y axis.\n",
    "plt.title('ROC curve for GausianNB Classifier') #plt.title() is used to add title for the plot.\n",
    "plt.legend(loc=4) #Create a legend for the plot element\n",
    "plt.show()  #plt.show() will display the plot."
   ]
  },
  {
   "cell_type": "markdown",
   "metadata": {},
   "source": [
    "# Comparing Accuracies of different Models"
   ]
  },
  {
   "cell_type": "code",
   "execution_count": 276,
   "metadata": {},
   "outputs": [
    {
     "data": {
      "image/png": "[encoded data removed]",
      "text/plain": [
       "<Figure size 504x504 with 1 Axes>"
      ]
     },
     "metadata": {
      "needs_background": "light"
     },
     "output_type": "display_data"
    }
   ],
   "source": [
    "x='XGB'\n",
    "y='DT'\n",
    "j='L P'\n",
    "k='L SVC'\n",
    "l='KNN'\n",
    "m='RF'\n",
    "n='SVM-RBF'\n",
    "p='GNB'\n",
    "\n",
    "c=[x,y,j,k,l,m,n,p] \n",
    "d=[xgb,dt,lps,lss,knns,rf,svrb,gnb] \n",
    "plt.bar(c,d,color=['black', 'red', 'green', 'blue', 'cyan','yellow','orange','pink'])\n",
    "plt.ylabel('Accuracy')\n",
    "plt.title('Model Accuracies')\n",
    "plt.show()"
   ]
  },
  {
   "cell_type": "code",
   "execution_count": 273,
   "metadata": {},
   "outputs": [
    {
     "name": "stdout",
     "output_type": "stream",
     "text": [
      "[0.728980633190305, 0.7076423518497043, 0.5703351501797518, 0.5153078974834744, 0.6873477907920678, 0.6331903049982605]\n"
     ]
    }
   ],
   "source": [
    "print(d)"
   ]
  },
  {
   "cell_type": "code",
   "execution_count": null,
   "metadata": {},
   "outputs": [],
   "source": []
  }
 ],
 "metadata": {
  "kernelspec": {
   "display_name": "Python 3",
   "language": "python",
   "name": "python3"
  },
  "language_info": {
   "codemirror_mode": {
    "name": "ipython",
    "version": 3
   },
   "file_extension": ".py",
   "mimetype": "text/x-python",
   "name": "python",
   "nbconvert_exporter": "python",
   "pygments_lexer": "ipython3",
   "version": "3.8.5"
  }
 },
 "nbformat": 4,
 "nbformat_minor": 2
}
